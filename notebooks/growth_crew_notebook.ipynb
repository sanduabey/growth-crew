{
 "cells": [
  {
   "cell_type": "code",
   "execution_count": null,
   "id": "16badd21-05ea-470e-b783-d19f52225b73",
   "metadata": {},
   "outputs": [],
   "source": [
    "pip install crewai"
   ]
  },
  {
   "cell_type": "code",
   "execution_count": null,
   "id": "fecf7add-4dcd-4fb9-bb60-4b9afdd248d5",
   "metadata": {},
   "outputs": [],
   "source": [
    "pip install 'crewai[tools]'"
   ]
  },
  {
   "cell_type": "code",
   "execution_count": null,
   "id": "69f7de69-4c51-4c5a-a2c2-7097d430da10",
   "metadata": {},
   "outputs": [],
   "source": []
  }
 ],
 "metadata": {
  "kernelspec": {
   "display_name": "Python 3",
   "language": "python",
   "name": "python3"
  },
  "language_info": {
   "codemirror_mode": {
    "name": "ipython",
    "version": 3
   },
   "file_extension": ".py",
   "mimetype": "text/x-python",
   "name": "python",
   "nbconvert_exporter": "python",
   "pygments_lexer": "ipython3",
   "version": "3.12.4"
  }
 },
 "nbformat": 4,
 "nbformat_minor": 5
}
